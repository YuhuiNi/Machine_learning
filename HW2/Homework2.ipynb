{
 "cells": [
  {
   "cell_type": "markdown",
   "metadata": {},
   "source": [
    "#Problem 6"
   ]
  },
  {
   "cell_type": "markdown",
   "metadata": {},
   "source": [
    "##PCA "
   ]
  },
  {
   "cell_type": "code",
   "execution_count": 1,
   "metadata": {},
   "outputs": [],
   "source": [
    "import numpy as np\n",
    "import matplotlib.pyplot as plt\n",
    "from sklearn import preprocessing\n",
    "#read the txt file\n",
    "data=np.loadtxt(\"3Ddata.txt\")\n",
    "\n",
    "X=data[:,0:3]\n",
    "label=data[:,3]\n",
    "\n",
    "#PCA algorithm\n",
    "def PCA(X,k):\n",
    "    nsample=X.shape[0]\n",
    "    ndim=X.shape[1]\n",
    "    \n",
    "    #center the data\n",
    "    X=X-np.mean(X,0)\n",
    "    \n",
    "    #compute the sample covariance matrix\n",
    "    sigma=np.dot(X.T,X)/nsample\n",
    "    \n",
    "    #compute the eigen value and eigen vector\n",
    "    w,v=np.linalg.eig(sigma)\n",
    "    ind=np.argsort(w)\n",
    "    ind=ind[::-1]\n",
    "    eighv=v[:,ind[:k]]\n",
    "    \n",
    "    #compute the scores matrix\n",
    "    scores=-np.dot(X,eighv)\n",
    "    \n",
    "    return scores"
   ]
  },
  {
   "cell_type": "code",
   "execution_count": 2,
   "metadata": {},
   "outputs": [
    {
     "data": {
      "text/plain": [
       "Text(0.5,1,'Principal Component Analysis')"
      ]
     },
     "execution_count": 2,
     "metadata": {},
     "output_type": "execute_result"
    },
    {
     "data": {
      "image/png": "[encoded data removed]",
      "text/plain": [
       "<matplotlib.figure.Figure at 0x107895860>"
      ]
     },
     "metadata": {},
     "output_type": "display_data"
    }
   ],
   "source": [
    "#plot the image\n",
    "X_pca=PCA(X,2)\n",
    "for i in range(1,5):\n",
    "    plt.plot(X_pca[label==i,0],X_pca[label==i,1],'.')\n",
    "plt.title(\"Principal Component Analysis\")"
   ]
  },
  {
   "cell_type": "markdown",
   "metadata": {},
   "source": [
    "##Isomap"
   ]
  },
  {
   "cell_type": "code",
   "execution_count": 3,
   "metadata": {},
   "outputs": [],
   "source": [
    "#Isomap analysis\n",
    "inf=np.inf\n",
    "#find k-nearest neighbour of given data\n",
    "def k_nearest_neighbour(i,X,k):\n",
    "    temp=X-X[i,:]\n",
    "    distance=np.sqrt(np.sum(np.multiply(temp,temp),1))\n",
    "    \n",
    "    #sort the index and distance with asecending\n",
    "    index=np.argsort(distance)[1:(k+1)]\n",
    "    distance_knearest=distance[index]\n",
    "    \n",
    "    return index,distance_knearest\n",
    "\n",
    "#construct graph distance matrix\n",
    "def graph_distance(X,k):\n",
    "    nsample=X.shape[0]\n",
    "    graph_matrix=np.zeros((nsample,nsample))\n",
    "    for i in range(nsample):\n",
    "        index,distance=k_nearest_neighbour(i,X,k)\n",
    "        index_remain=np.delete(np.arange(nsample),index)\n",
    "        \n",
    "        #assign k-neareast neighbours with distance\n",
    "        graph_matrix[i,index]=distance \n",
    "        \n",
    "        #assign un-nearest points with inf\n",
    "        graph_matrix[i,index_remain]=inf\n",
    "        \n",
    "        #assign itself with 0\n",
    "        graph_matrix[i,i]=0\n",
    "        \n",
    "    return graph_matrix\n",
    "\n",
    "#compute shortest path distance\n",
    "def shorest_path(graph_matrix):\n",
    "    #assign A with initial value of graph_matrix\n",
    "    A=graph_matrix.copy()\n",
    "    nsample=A.shape[0]\n",
    "    #Floyd–Warshall algorithm\n",
    "    for k in range(nsample):\n",
    "        for i in range(nsample):\n",
    "            for j in range(nsample):\n",
    "                if A[i,j]>A[i,k]+A[k,j]:\n",
    "                    A[i,j]=A[i,k]+A[k,j]\n",
    "    return A\n",
    "\n",
    "#compute Multidimensional scaling\n",
    "def MDS(A,ndim):\n",
    "    nsample=A.shape[0]\n",
    "    \n",
    "    #compute centered gram matrix\n",
    "    P=np.eye(nsample)-np.ones((nsample,nsample))/nsample\n",
    "    A=A**2\n",
    "    gram_matrix=-0.5*np.dot(P,A).dot(P)\n",
    "    \n",
    "    #compute eigendecomposition of gram matrix\n",
    "    w,v=np.linalg.eig(gram_matrix)\n",
    "    ind=np.argsort(w)\n",
    "    ind=ind[::-1]\n",
    "    \n",
    "    #extract diagnoal matrix and low-dimensional data\n",
    "    lamb=np.concatenate((np.diag(np.sqrt(w[ind[:ndim]])),\\\n",
    "                         np.zeros((nsample-ndim,ndim))),axis=0)\n",
    "    y=np.dot(v[:,ind],lamb)\n",
    "    \n",
    "    return np.real(y)\n",
    "\n",
    "#Isomap method\n",
    "def Isomap(X,k,ndim):\n",
    "    \n",
    "    #compute graph distance\n",
    "    graph_matrix=graph_distance(X,k)\n",
    "    \n",
    "    #compute the shorest path distance\n",
    "    A=shorest_path(graph_matrix)\n",
    "    \n",
    "    #compute Multidimensional scaling\n",
    "    y=MDS(A,ndim)\n",
    "    \n",
    "    return y"
   ]
  },
  {
   "cell_type": "code",
   "execution_count": 4,
   "metadata": {},
   "outputs": [],
   "source": [
    "k=10\n",
    "ndim=2\n",
    "y=Isomap(X,k,ndim)"
   ]
  },
  {
   "cell_type": "code",
   "execution_count": 5,
   "metadata": {},
   "outputs": [
    {
     "data": {
      "text/plain": [
       "Text(0.5,1,'Isomap')"
      ]
     },
     "execution_count": 5,
     "metadata": {},
     "output_type": "execute_result"
    },
    {
     "data": {
      "image/png": "[encoded data removed]",
      "text/plain": [
       "<matplotlib.figure.Figure at 0x10a09c9b0>"
      ]
     },
     "metadata": {},
     "output_type": "display_data"
    }
   ],
   "source": [
    "for i in range(1,5):\n",
    "    plt.plot(y[label==i,0],y[label==i,1],'.')\n",
    "plt.title(\"Isomap\")"
   ]
  },
  {
   "cell_type": "markdown",
   "metadata": {},
   "source": [
    "##Locally Linear Embedding"
   ]
  },
  {
   "cell_type": "code",
   "execution_count": 6,
   "metadata": {},
   "outputs": [],
   "source": [
    "#find the weights\n",
    "def weight_matrix(X,k,alpha):\n",
    "    nsample=X.shape[0]\n",
    "    weight=np.zeros((nsample,nsample))\n",
    "    for i in range(nsample):\n",
    "        #find k-nearest neighbours\n",
    "        index,distance=k_nearest_neighbour(i,X,k)\n",
    "        Z=X[index,:]-X[i,:]\n",
    "        \n",
    "        #compute gram matrix of neighbours\n",
    "        gram_matrix=np.dot(Z,Z.T)\n",
    "        \n",
    "        #compute the weights of neighbours\n",
    "        weight[i,index]=np.dot(np.linalg.inv(gram_matrix+np.eye(k)*alpha),np.ones((k,1))).T\n",
    "        \n",
    "        #normalize it to sum 1\n",
    "        weight[i,index]=weight[i,index]/np.sum(weight[i,index])\n",
    "    \n",
    "    return weight\n",
    "\n",
    "#find the coordinates\n",
    "def new_coordinate(X,weight,ndim):\n",
    "    nsample=X.shape[0]\n",
    "    \n",
    "    #compute matrix (I-W)'*(I-W)\n",
    "    M=np.dot((np.eye(nsample)-weight).T,(np.eye(nsample)-weight))\n",
    "    \n",
    "    #compute eigen value and vector\n",
    "    w,v=np.linalg.eig(M)\n",
    "    ind=np.argsort(w)\n",
    "    \n",
    "    #extract bottom k+1 eigenvectors excluding 1 vector \n",
    "    coords=v[:,ind[1:(ndim+1)]]*np.sqrt(nsample)\n",
    "    \n",
    "    return np.real(coords)\n",
    "\n",
    "def LLE(X,k,ndim,alpha):\n",
    "    \n",
    "    #find the weights\n",
    "    weight=weight_matrix(X,k,alpha)\n",
    "    \n",
    "    #find the coordinates\n",
    "    coords=new_coordinate(X,weight,ndim)\n",
    "    \n",
    "    return coords"
   ]
  },
  {
   "cell_type": "code",
   "execution_count": 7,
   "metadata": {},
   "outputs": [],
   "source": [
    "k=10\n",
    "ndim=2\n",
    "alpha=0.003\n",
    "coords=LLE(X,k,ndim,alpha)"
   ]
  },
  {
   "cell_type": "code",
   "execution_count": 8,
   "metadata": {},
   "outputs": [
    {
     "data": {
      "text/plain": [
       "Text(0.5,1,'LLE')"
      ]
     },
     "execution_count": 8,
     "metadata": {},
     "output_type": "execute_result"
    },
    {
     "data": {
      "image/png": "[encoded data removed]",
      "text/plain": [
       "<matplotlib.figure.Figure at 0x10a0fd780>"
      ]
     },
     "metadata": {},
     "output_type": "display_data"
    }
   ],
   "source": [
    "for i in range(1,5):\n",
    "    plt.plot(coords[label==i,0],coords[label==i,1],'.')\n",
    "plt.title(\"LLE\")"
   ]
  },
  {
   "cell_type": "markdown",
   "metadata": {},
   "source": [
    "As we can see, these three methods have different reduction results. For PCA, its goal is to find a projection plane such that mean squared error of projection is minimized. The original 3-dimensional data is like a S shape. Therefore, the PCA reduction is a S shape. As for ISomap, it keeps the relationship between neighbors and flat the data in oringal space. So we can see a rectangle which is clearly splited into four parts. LLE method assumes each point should be approximately reconstructable as a linear combination of its neighbors and also keeps the relationships between neighbors. Since it's constructed by linear combination of its neighbors, it will be close to linear shape just as we see in the above figure."
   ]
  },
  {
   "cell_type": "markdown",
   "metadata": {},
   "source": [
    "#Problem 7"
   ]
  },
  {
   "cell_type": "code",
   "execution_count": 9,
   "metadata": {},
   "outputs": [],
   "source": [
    "#loading data\n",
    "train=np.loadtxt('train35.digits')\n",
    "train=np.concatenate((train,np.ones((2000,1))),axis=1)\n",
    "train_label=np.loadtxt(\"train35.labels\")\n",
    "test=np.loadtxt(\"test35-1.digits\")\n",
    "test=np.concatenate((test,np.ones((200,1))),axis=1)\n",
    "\n",
    "#normalize the data to unit norm\n",
    "train=preprocessing.normalize(train, norm='l2')\n",
    "test=preprocessing.normalize(test, norm='l2')"
   ]
  },
  {
   "cell_type": "code",
   "execution_count": 10,
   "metadata": {},
   "outputs": [],
   "source": [
    "def batchperceptron(train,train_label,M):\n",
    "    \n",
    "    n=train.shape[0] #sample size\n",
    "    ndim=train.shape[1] #sample dimension\n",
    "    #initalize the weight\n",
    "    w=np.zeros(ndim)\n",
    "    error=np.zeros(M)\n",
    "    k=0\n",
    "    flag=1\n",
    "    while(k<M and flag):\n",
    "        flag=0\n",
    "        for i in range(n):\n",
    "            u=np.sum(np.multiply(w,train[i,:]))\n",
    "            if train_label[i]*u<=0:\n",
    "                w=w+train_label[i]*train[i,:]\n",
    "                flag=1\n",
    "        error[k]=np.sum(np.multiply(train_label,np.sum(np.multiply(train,w),1))<=0)\n",
    "        k=k+1\n",
    "    return w,error\n",
    "\n",
    "#using K-folding cross validation to choose optimal M\n",
    "def M_crossvalidation(train,train_label,K):\n",
    "    nsample=train.shape[0]\n",
    "    subsize=nsample/K\n",
    "    m=np.arange(1,15)\n",
    "    error=np.zeros(len(m))\n",
    "    for M in m:\n",
    "        for i in range(K):\n",
    "            test_ind=np.arange(i*subsize,(i+1)*subsize,dtype=\"int\")\n",
    "            train_ind=np.delete(np.arange(nsample),test_ind)\n",
    "            w,er=batchperceptron(train[train_ind,:],train_label[train_ind],M)\n",
    "            error[M-1]+=np.sum(np.multiply(train_label[test_ind],\\\n",
    "                            np.sum(np.multiply(train[test_ind],w),1))<=0)\n",
    "    \n",
    "    M_best=np.argmin(error)+1\n",
    "    \n",
    "    return M_best"
   ]
  },
  {
   "cell_type": "code",
   "execution_count": 11,
   "metadata": {},
   "outputs": [
    {
     "name": "stdout",
     "output_type": "stream",
     "text": [
      "8\n"
     ]
    }
   ],
   "source": [
    "#choose best M\n",
    "M_best=M_crossvalidation(train,train_label,5)\n",
    "print(M_best)"
   ]
  },
  {
   "cell_type": "code",
   "execution_count": 12,
   "metadata": {},
   "outputs": [],
   "source": [
    "#train w using train data\n",
    "w,error=batchperceptron(train,train_label,M_best)\n",
    "\n",
    "#prediciton test label\n",
    "test_label=np.sum(np.multiply(test,w),1)\n",
    "test_label[test_label>0]=1\n",
    "test_label[test_label<=0]=-1\n",
    "\n",
    "#save test label\n",
    "np.savetxt(\"test35.predictions\", test_label, fmt=\"%d\", delimiter=\",\")"
   ]
  },
  {
   "cell_type": "code",
   "execution_count": 13,
   "metadata": {},
   "outputs": [
    {
     "data": {
      "text/plain": [
       "Text(0,0.5,'Mistakes')"
      ]
     },
     "execution_count": 13,
     "metadata": {},
     "output_type": "execute_result"
    },
    {
     "data": {
      "image/png": "[encoded data removed]",
      "text/plain": [
       "<matplotlib.figure.Figure at 0x10a1beda0>"
      ]
     },
     "metadata": {},
     "output_type": "display_data"
    }
   ],
   "source": [
    "plt.plot(np.arange(1,M_best+1),error)\n",
    "plt.xlabel('Number of feeding the whole dataset')\n",
    "plt.ylabel('Mistakes')"
   ]
  },
  {
   "cell_type": "markdown",
   "metadata": {},
   "source": [
    "According to above figure, we see that the number of mistakes decreases with increasing examples at first, but it increases after 5 times feeding and 7 times feeding. In other words, it will not always decrease with increasing examples, there exists some certain number that achieve the smallest mistake number."
   ]
  }
 ],
 "metadata": {
  "kernelspec": {
   "display_name": "Python 3",
   "language": "python",
   "name": "python3"
  },
  "language_info": {
   "codemirror_mode": {
    "name": "ipython",
    "version": 3
   },
   "file_extension": ".py",
   "mimetype": "text/x-python",
   "name": "python",
   "nbconvert_exporter": "python",
   "pygments_lexer": "ipython3",
   "version": "3.6.4"
  }
 },
 "nbformat": 4,
 "nbformat_minor": 2
}
