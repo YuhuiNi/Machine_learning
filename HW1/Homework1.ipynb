{
 "cells": [
  {
   "cell_type": "markdown",
   "metadata": {},
   "source": [
    "##1.(a)"
   ]
  },
  {
   "cell_type": "markdown",
   "metadata": {},
   "source": [
    "For each cluster $C_j$, $m_j=\\frac{1}{|C_j|}\\sum_{x\\in C_j}x$, we have:\n",
    "\\begin{equation}\n",
    "\\begin{split}\n",
    " \\frac{1}{|C_j|}\\sum_{x\\in C_j}\\sum_{x'\\in C_j}d(x,x')^2&=\\frac{1}{|C_j|}\\sum_{x\\in C_j}\\sum_{x'\\in C_j}||x-x'||^2\\\\\n",
    " &=\\frac{1}{|C_j|}\\sum_{x\\in C_j}\\sum_{x'\\in C_j}(||x||^2-2x^Tx'+||x'||^2)\\\\\n",
    " &=2\\sum_{x\\in C_j}||x||^2-\\frac{2}{|C_j|}(\\sum_{x\\in C_j}x)^T\\sum_{x\\in C_j}x\\\\\n",
    " &=2\\sum_{x\\in C_j}||x||^2-2|C_j|||m_j||^2\\\\\n",
    " &=2(\\sum_{x\\in C_j}||x||^2-|C_j|||m_j||^2)\\\\\n",
    " &=2(\\sum_{x\\in C_j}||x-m_j||^2)\\\\\n",
    " &=2(\\sum_{x\\in C_j}d(x,m_j)^2)\n",
    "\\end{split}\n",
    "\\end{equation}\n",
    "This is true for $j=1,2,\\cdots,k$. Therefore, we have:\n",
    "$$2\\sum_{j=1}^k\\sum_{x\\in C_j}d(x,m_j)^2=\\sum_{j=1}^k\\frac{1}{|C_j|}\\sum_{x\\in C_j}\\sum_{x'\\in C_j}d(x,x')^2$$\n",
    "i.e. $J_{IC}=2J_{avg^2}$"
   ]
  },
  {
   "cell_type": "markdown",
   "metadata": {},
   "source": [
    "##1.(b)"
   ]
  },
  {
   "cell_type": "markdown",
   "metadata": {},
   "source": [
    "1.For each datapoint i, $d(x_i,m_{\\gamma_i})\\leq d(x_i,m_j)$ for any $j=1,2,\\cdots,k$,by definitation of:$\\gamma_i=argmin_{j\\in \\{1,2,\\cdots,k\\}}d(x_i,m_j)$.\n",
    "Thus, this step minimizes $J_{avg^2}$ as function of $\\gamma_1,\\cdots,\\gamma_n$, while hoding $m_1,\\cdots,m_k$ constant"
   ]
  },
  {
   "cell_type": "markdown",
   "metadata": {},
   "source": [
    "2.\n",
    "\\begin{equation}\n",
    "\\begin{split}\n",
    "\\sum_{x\\in C_j}d(x,m_j)^2&=\\sum_{x\\in C_j}||x||^2-2x^Tm_j+||m_j||^2\\\\\n",
    "&=|C_j|\\ ||m_j-\\frac{1}{|C_j|}\\sum_{x\\in C_j}x||^2+\\sum_{x\\in C_j}||x||^2-|C_j|\\ ||\\frac{1}{|C_j|}\\sum_{x\\in C_j}x||^2\\\\\n",
    "&\\leq \\sum_{x\\in C_j}||x||^2-|C_j|\\ ||\\frac{1}{|C_j|}\\sum_{x\\in C_j}x||^2\n",
    "\\end{split}\n",
    "\\end{equation}\n",
    "This takes '=' when $$m_j=\\frac{1}{|C_j|}\\sum_{x\\in C_j}x$$\n",
    "Therefore, for each $C_j$, $\\sum_{x\\in C_j}d(x,m_j)^2$ is minimized when $m_j=\\frac{1}{|C_j|}\\sum_{x\\in C_j}x$. So this step minimizes $J_{avg^2}$ as a function of $m_1,\\cdots,m_k$, while holding $\\gamma_1,\\cdots,\\gamma_n$ constant."
   ]
  },
  {
   "cell_type": "markdown",
   "metadata": {},
   "source": [
    "##1.(c)"
   ]
  },
  {
   "cell_type": "markdown",
   "metadata": {},
   "source": [
    "As (b) proves, for every iteration, we implement two steps.\n",
    "After first step, we have\n",
    "$$J_{avg^2}(\\gamma_1^{new},\\cdots,\\gamma_n^{new},m_1,\\cdots,m_k)\\leq J_{avg^2}(\\gamma_1,\\cdots,\\gamma_n,m_1,\\cdots,m_k)$$\n",
    "After second step, we have $$J_{avg^2}(\\gamma_1^{new},\\cdots,\\gamma_n^{new},m_1^{new},\\cdots,m_k^{new})\\leq J_{avg^2}(\\gamma_1^{new},\\cdots,\\gamma_n^{new},m_1,\\cdots,m_k)$$\n",
    "Thus, $$J_{avg^2}(\\gamma_1^{new},\\cdots,\\gamma_n^{new},m_1^{new},\\cdots,m_k^{new})\\leq J_{avg^2}(\\gamma_1,\\cdots,\\gamma_n,m_1,\\cdots,m_k)$$\n",
    "So, this distortion decreases monotonically iteration by iteration"
   ]
  },
  {
   "cell_type": "markdown",
   "metadata": {},
   "source": [
    "##1.(d)"
   ]
  },
  {
   "cell_type": "markdown",
   "metadata": {},
   "source": [
    "one upper bound is $\\frac{k^n}{k!}$ since there at most $\\frac{k^n}{k!}$ states for all data points."
   ]
  },
  {
   "cell_type": "markdown",
   "metadata": {},
   "source": [
    "##2.(a)"
   ]
  },
  {
   "cell_type": "code",
   "execution_count": 1,
   "metadata": {},
   "outputs": [],
   "source": [
    "import numpy as np\n",
    "import matplotlib.pyplot as plt\n",
    "# open toydata file\n",
    "file=open(\"toydata.txt\",'r')\n",
    "# store data in a 500*2 array\n",
    "X=np.matrix(np.zeros((500,2),dtype=\"float\"))\n",
    "k=0\n",
    "for line in file.readlines():\n",
    "    X[k,]=line.split()\n",
    "    k=k+1\n",
    "#close the file\n",
    "file.close()\n",
    "\n",
    "# randomly initialize the k centroids\n",
    "def initialize(X,k):\n",
    "    nsample=X.shape[0]\n",
    "    return X[np.random.choice(nsample,k),]\n",
    "\n",
    "#find the closest center for given points:\n",
    "def closestcenter(X,centroid):\n",
    "    n=X.shape[0]\n",
    "    newlabel=np.zeros(n,dtype='int')\n",
    "    for k in range(n):\n",
    "        temp=centroid-X[k,]\n",
    "        distance=np.sum(np.multiply(temp,temp),1)\n",
    "        newlabel[k]=np.argmin(distance)\n",
    "    return newlabel\n",
    "\n",
    "#compute the new centroids\n",
    "def newcenter(X,K,label):\n",
    "    nsample=X.shape[0]\n",
    "    ndim=X.shape[1]\n",
    "    newcentroid=np.zeros((K,ndim))\n",
    "    for l in range(K):\n",
    "        ind=np.where(label==l)[0]\n",
    "        if len(ind)==0:\n",
    "            j=np.random.randint(nsample)\n",
    "            newcentroid[l]=X[j,:]\n",
    "        else:\n",
    "            newcentroid[l]=np.mean(X[ind,],0)\n",
    "    return newcentroid\n",
    "\n",
    "#compute the distortion function\n",
    "def distortion(X,centroid,label):\n",
    "    nsample=X.shape[0]\n",
    "    ditor=np.zeros(nsample)\n",
    "    for l in range(nsample):\n",
    "        temp=X[l,]-centroid[label[l],]\n",
    "        ditor[l]=np.sum(np.multiply(temp,temp))\n",
    "    return np.sum(ditor)\n",
    "\n",
    "#k-means algorithm\n",
    "def k_means(X,k):\n",
    "    nsample=X.shape[0]\n",
    "    distor=[]\n",
    "    iteration=0\n",
    "    max_iter=200\n",
    "    difference=1\n",
    "    labels=[]\n",
    "    \n",
    "    #intialize the centroids\n",
    "    centroid=initialize(X,k)\n",
    "    \n",
    "    while abs(difference)>0 and iteration<max_iter:\n",
    "        iteration+=1\n",
    "        \n",
    "        #update each point's cluster and centroid\n",
    "        label=closestcenter(X,centroid)\n",
    "        centroid=newcenter(X,k,label)\n",
    "        \n",
    "        #compute distortion and store it\n",
    "        distor.append(distortion(X,centroid,label))\n",
    "        labels.append(label)\n",
    "        \n",
    "        #compute the convergence condition\n",
    "        if iteration>2:\n",
    "            difference=sum(labels[-1]!=labels[-2])/nsample\n",
    "    \n",
    "    return [label,iteration,distor]"
   ]
  },
  {
   "cell_type": "code",
   "execution_count": 5,
   "metadata": {},
   "outputs": [
    {
     "data": {
      "text/plain": [
       "Text(0.5,1,'k-means clustering')"
      ]
     },
     "execution_count": 5,
     "metadata": {},
     "output_type": "execute_result"
    },
    {
     "data": {
      "image/png": "[encoded data removed]",
      "text/plain": [
       "<matplotlib.figure.Figure at 0x112890f60>"
      ]
     },
     "metadata": {},
     "output_type": "display_data"
    }
   ],
   "source": [
    "k=3\n",
    "[label,num,distor]=k_means(X,k)\n",
    "l1=plt.plot(X[label==0,0],X[label==0,1],'r.')\n",
    "l2=plt.plot(X[label==1,0],X[label==1,1],'g.')\n",
    "l3=plt.plot(X[label==2,0],X[label==2,1],'b.')\n",
    "plt.title(\"k-means clustering\")"
   ]
  },
  {
   "cell_type": "code",
   "execution_count": 6,
   "metadata": {},
   "outputs": [
    {
     "data": {
      "text/plain": [
       "Text(0,0.5,'value of distortion')"
      ]
     },
     "execution_count": 6,
     "metadata": {},
     "output_type": "execute_result"
    },
    {
     "data": {
      "image/png": "[encoded data removed]",
      "text/plain": [
       "<matplotlib.figure.Figure at 0x112890c18>"
      ]
     },
     "metadata": {},
     "output_type": "display_data"
    }
   ],
   "source": [
    "for j in range(20):\n",
    "    [label,num,distor]=k_means(X,k)\n",
    "    plt.plot(range(1,num+1),distor,'o-')\n",
    "plt.xlabel(\"number of iteration\")\n",
    "plt.ylabel(\"value of distortion\")"
   ]
  },
  {
   "cell_type": "markdown",
   "metadata": {},
   "source": [
    "As we can see, there are several times when the algorithm does not correctly identify the three clusters. Most of time, it achieves the convergence condition before 8 iteration. Also, there are several runs that takes more than 10 iteratoin. The largest number of iteration in this plot is larger than 14. Therefore, we can conclude that the number of iteration mainly depends on the initialization of centroids."
   ]
  },
  {
   "cell_type": "markdown",
   "metadata": {},
   "source": [
    "##(b)"
   ]
  },
  {
   "cell_type": "code",
   "execution_count": 7,
   "metadata": {},
   "outputs": [],
   "source": [
    "#define new initializing function for k-means++\n",
    "\n",
    "#compute the corresponding probability\n",
    "def prob(X,exist_centroid):\n",
    "    nsample=X.shape[0]\n",
    "    p=np.zeros(nsample)\n",
    "    for k in range(nsample):\n",
    "        temp=exist_centroid-X[k,]\n",
    "        distance=np.sum(np.multiply(temp,temp),1)\n",
    "        p[k]=min(distance)\n",
    "    p=p/np.sum(p)\n",
    "    return p\n",
    "\n",
    "#new initialization function\n",
    "def newinitialize(X,k):\n",
    "    nsample=X.shape[0]\n",
    "    ndim=X.shape[1]\n",
    "    centroid=np.zeros((k,ndim))\n",
    "    centroid[0,]=X[np.random.choice(nsample,1),]\n",
    "    p=np.zeros(nsample)\n",
    "    for i in range(1,k):\n",
    "        p=prob(X,centroid[:i,])\n",
    "        centroid[i,]=X[np.random.choice(nsample,1,p=p),]\n",
    "    return centroid\n",
    "\n",
    "# kmeans++\n",
    "def k_meansplus(X,k):\n",
    "    nsample=X.shape[0]\n",
    "    distor=[]\n",
    "    labels=[]\n",
    "    iteration=0\n",
    "    max_iter=200\n",
    "    difference=-1\n",
    "    \n",
    "    #intialize the centroids\n",
    "    centroid=newinitialize(X,k)\n",
    "    \n",
    "    while abs(difference)>0 and iteration<max_iter:\n",
    "        iteration+=1\n",
    "        \n",
    "        #update each point's cluster and centroid\n",
    "        label=closestcenter(X,centroid)\n",
    "        centroid=newcenter(X,k,label)\n",
    "        labels.append(label)\n",
    "        \n",
    "        #compute the distortion and store it\n",
    "        distor.append(distortion(X,centroid,label))\n",
    "        \n",
    "        #compute the convergence condition\n",
    "        if iteration>2:\n",
    "            difference=sum(labels[-1]!=labels[-2])/nsample\n",
    "    \n",
    "    return [label,iteration,distor]"
   ]
  },
  {
   "cell_type": "code",
   "execution_count": 11,
   "metadata": {
    "scrolled": true
   },
   "outputs": [
    {
     "data": {
      "text/plain": [
       "Text(0,0.5,'value of distortion')"
      ]
     },
     "execution_count": 11,
     "metadata": {},
     "output_type": "execute_result"
    },
    {
     "data": {
      "image/png": "[encoded data removed]",
      "text/plain": [
       "<matplotlib.figure.Figure at 0x11df65d30>"
      ]
     },
     "metadata": {},
     "output_type": "display_data"
    }
   ],
   "source": [
    "for j in range(20):\n",
    "    [label,num,distor]=k_meansplus(X,k)\n",
    "    plt.plot(range(1,num+1),distor,'o-')\n",
    "plt.xlabel(\"number of iteration\")\n",
    "plt.ylabel(\"value of distortion\")"
   ]
  },
  {
   "cell_type": "markdown",
   "metadata": {},
   "source": [
    "Compared to the plot of k-means algorithm, the k-means++ costs fewer number of iteration. As we can see, most of runs convergence before 6 iteration. The largest number of iteration in this plot is relatively smaller than that of k-means algorithm. This implies that k-means++ algorithm convergences faster than k-means algorithm on average\n",
    "although these two methods does not differ much for this toy dataset."
   ]
  },
  {
   "cell_type": "markdown",
   "metadata": {},
   "source": [
    "##3.(a)"
   ]
  },
  {
   "cell_type": "markdown",
   "metadata": {},
   "source": [
    "\\begin{equation}\n",
    "\\begin{split}\n",
    "l(\\theta)&=\\sum_{i=1}^nlog(P(x_i,z_i))\\\\\n",
    "&=\\sum_{i=1}^nlog\\pi_{z_i}N(x_i;\\mu_{z_i},\\Sigma_{z_i})\\\\\n",
    "&=\\sum_{i=1}^nlog\\pi_{z_i}(2\\pi)^{-\\frac{d}{2}}|\\Sigma_{z_i}|^{-\\frac{1}{2}}exp(-(x_i-u_{z_i})^T\\Sigma_{z_i}^{-1}(x_i-u_{z_i})/2)\\\\\n",
    "&=\\sum_{i=1}^nlog\\pi_{z_i}-\\frac{1}{2}\\sum_{i=1}^nlog|\\Sigma_{z_i}|-\\frac{1}{2}\\sum_{i=1}^n(x_i-u_{z_i})^T\\Sigma_{z_i}^{-1}(x_i-u_{z_i})-\\frac{nd}{2}log2\\pi\n",
    "\\end{split}\n",
    "\\end{equation}"
   ]
  },
  {
   "cell_type": "markdown",
   "metadata": {},
   "source": [
    "##3.(b)"
   ]
  },
  {
   "cell_type": "markdown",
   "metadata": {},
   "source": [
    "\\begin{equation}\n",
    "\\begin{split}\n",
    "P_{ij}&=P(z_i=j|x_i)\\\\\n",
    "&=\\frac{P(x_i|z_i=j)P(z_i=j)}{\\sum_{l=1}^kP(x_i|z_i=l)P(z_i=l)}\\\\\n",
    "&=\\frac{\\pi_jN(x_i;\\mu_j,\\Sigma_j)}{\\sum_{l=1}^k\\pi_lN(x_i;\\mu_l,\\Sigma_l)}\\\\\n",
    "&=\\frac{\\pi_j(2\\pi)^{-\\frac{d}{2}}|\\Sigma_{j}|^{-\\frac{1}{2}}exp(-(x_i-u_{j})^T\\Sigma_{j}^{-1}(x_i-u_{j})/2)}{\\sum_{l=1}^k\\pi_l(2\\pi)^{-\\frac{d}{2}}|\\Sigma_{l}|^{-\\frac{1}{2}}exp(-(x_i-u_{l})^T\\Sigma_{l}^{-1}(x_i-u_{l})/2)}\n",
    "\\end{split}\n",
    "\\end{equation}"
   ]
  },
  {
   "cell_type": "markdown",
   "metadata": {},
   "source": [
    "##3.(c)"
   ]
  },
  {
   "cell_type": "markdown",
   "metadata": {},
   "source": [
    "\\begin{equation}\n",
    "\\begin{split}\n",
    "\\bar{l}_{\\theta_{old}}(\\theta)&=E_{z|X,\\theta_{old}}(l(\\theta))\\\\\n",
    "&=E_{z|X,\\theta_{old}}\\sum_{i=1}^nlogP(x_i,z_i)\\\\\n",
    "&=\\sum_{i=1}^nE_{z|X,\\theta_{old}}logP(x_i,z_i)\\\\\n",
    "&=\\sum_{i=1}^n\\sum_{j=1}^kP(z_i=j|x_i,\\theta_{old})logP(x_i,z_i=j)\\\\\n",
    "&=\\sum_{i=1}^n\\sum_{j=1}^kP_{ij}logP(x_i,z_i=j)\\\\\n",
    "&=\\sum_{i=1}^n\\sum_{j=1}^kP_{ij}(log\\pi_j-\\frac{1}{2}log|\\Sigma_j|-\\frac{1}{2}(x_i-u_j)^T\\Sigma_j^{-1}(x_i-u_j)-\\frac{d}{2}log2\\pi)\n",
    "\\end{split}\n",
    "\\end{equation}"
   ]
  },
  {
   "cell_type": "markdown",
   "metadata": {},
   "source": [
    "##3.(d)"
   ]
  },
  {
   "cell_type": "markdown",
   "metadata": {},
   "source": [
    "write $g=\\bar{l}_{\\theta_{old}}(\\theta)+\\lambda(\\sum_{j=1}^k\\pi_j-1)$. Take derivative on g w.r.t $\\pi_j$ and $\\lambda$, we have:\n",
    "$$\\frac{\\partial g}{\\partial \\pi_j}=\\frac{1}{\\pi_j}\\sum_{i=1}^nP_{ij}+\\lambda,\\ j=1,2,\\cdots,k$$\n",
    "$$\\frac{\\partial g}{\\partial \\lambda}=\\sum_{j=1}^k\\pi_j-1$$\n",
    "Combine above equations, we can get:\n",
    "$$\\hat{\\pi_j}=\\frac{1}{n}\\sum_{i=1}^nP_{ij}$$"
   ]
  },
  {
   "cell_type": "markdown",
   "metadata": {},
   "source": [
    "##3.(e)"
   ]
  },
  {
   "cell_type": "markdown",
   "metadata": {},
   "source": [
    "$$(\\mu_l,\\Sigma_l)=argmax_{\\mu_l,\\Sigma_l}\\sum_{i=1}^nP_{il}(-\\frac{1}{2}log|\\Sigma_l|-\\frac{1}{2}(x_i-\\mu_l)^T\\Sigma_l^{-1}(x_i-\\mu_l))$$\n",
    "Let $$f=\\sum_{i=1}^nP_{il}(-\\frac{1}{2}log|\\Sigma_l|-\\frac{1}{2}(x_i-\\mu_l)^T\\Sigma_l^{-1}(x_i-\\mu_l))$$\n",
    "$$\\frac{\\partial f}{\\partial \\mu_l}=-\\sum_{i=1}^nP_{il}(\\Sigma_l^{-1}\\mu_l-\\Sigma_l^{-1}x_i)=0$$\n",
    "We can get\n",
    "$$\\hat{\\mu_l}=\\frac{\\sum_{i=1}^nP_{il}x_i}{\\sum_{i=1}^nP_{il}},\\ l=1,2,\\cdots,k$$\n",
    "denote\n",
    "$$A=\\sum_{i=1}^nP_{il}(x_i-\\hat{\\mu_i})(x_i-\\hat{\\mu_i})^T$$\n",
    "\\begin{equation}\n",
    "\\begin{split}\n",
    "f(\\hat{\\mu_l},\\Sigma_l)&=-\\frac{\\sum_{i=1}^nP_{il}}{2}(log|\\Sigma_l|+tr(\\Sigma_l^{-1}\\frac{A}{\\sum_{i=1}^nP_{il}}))\\\\\n",
    "&=-\\frac{\\sum_{i=1}^nP_{il}}{2}(tr(\\Sigma_l^{-1}\\frac{A}{\\sum_{i=1}^nP_{il}})-log(\\Sigma_l^{-1}\\frac{A}{\\sum_{i=1}^nP_{il}})+log|\\frac{A}{\\sum_{i=1}^nP_{il}}|)\\\\\n",
    "&=-\\frac{\\sum_{i=1}^nP_{il}}{2}(tr(\\Sigma_l^{-\\frac{1}{2}}\\frac{A}{\\sum_{i=1}^nP_{il}}\\Sigma_l^{-\\frac{1}{2}})-log(\\Sigma_l^{-\\frac{1}{2}}\\frac{A}{\\sum_{i=1}^nP_{il}}\\Sigma_l^{-\\frac{1}{2}})+log|\\frac{A}{\\sum_{i=1}^nP_{il}}|)\n",
    "\\end{split}\n",
    "\\end{equation}\n",
    "we have \n",
    "$$tr(\\Sigma_l^{-\\frac{1}{2}}\\frac{A}{\\sum_{i=1}^nP_{il}}\\Sigma_l^{-\\frac{1}{2}})-log(\\Sigma_l^{-\\frac{1}{2}}\\frac{A}{\\sum_{i=1}^nP_{il}}\\Sigma_l^{-\\frac{1}{2}})\\geq p$$\n",
    "This takes '=' when\n",
    "$$\\Sigma_l^{-\\frac{1}{2}}\\frac{A}{\\sum_{i=1}^nP_{il}}\\Sigma_l^{-\\frac{1}{2}}=I_p$$\n",
    "Thus\n",
    "$$\\hat{\\Sigma_l}=\\frac{A}{\\sum_{i=1}^nP_{il}}=\\frac{\\sum_{i=1}^nP_{il}(x_i-\\hat{\\mu_i})(x_i-\\hat{\\mu_i})^T}{\\sum_{i=1}^nP_{il}},\\ l=1,2,\\cdots,k$$"
   ]
  },
  {
   "cell_type": "markdown",
   "metadata": {},
   "source": [
    "##3.(f)"
   ]
  },
  {
   "cell_type": "markdown",
   "metadata": {},
   "source": [
    "These update ruels are similar\n",
    "\n",
    "For EM-E step, it computes the posterior probability for each data point in given cluster j, which equals to assign cluster to each data point. The first step of k-means, it computes new cluster for each data point.\n",
    "\n",
    "For EM-M step, it computes the parameters, updates the $\\pi_1,\\cdots,\\pi_k,\\mu_1,\\cdots,\\mu_k,\\Sigma_1,\\cdots,\\Sigma_k$. For second step of k-means, it computes its new centroid $m_1,\\cdots,m_k$ for each cluster. They are very close.\n",
    "\n",
    "The difference is that mixture Gaussian model here adopts the idea of Bayesian method. Each cluster has a prior probablility."
   ]
  },
  {
   "cell_type": "markdown",
   "metadata": {},
   "source": [
    "##3.(g)"
   ]
  },
  {
   "cell_type": "code",
   "execution_count": 12,
   "metadata": {},
   "outputs": [],
   "source": [
    "pi=np.pi\n",
    "#compute mulvariate normal density given mean and covariance matrix\n",
    "def normal(x,mu,sigma):\n",
    "    d=sigma.shape[0]\n",
    "    pdf=np.power(2*pi,-d/2)*np.power(np.linalg.det(sigma),-0.5)*\\\n",
    "    np.exp(-0.5*(x-mu)*np.linalg.inv(sigma)*(x-mu).transpose())\n",
    "    return pdf[0,0]\n",
    "\n",
    "#This function generates initial Gaussian means and covariance matrixs\n",
    "def EM_initial(X,num_cluster):\n",
    "    #randomly choose num_cluster sample as the mean \n",
    "    nsample=X.shape[0]\n",
    "    ndim=X.shape[1]\n",
    "    mu=X[np.random.choice(nsample,num_cluster),:]\n",
    "    #choose covariance matrix for each cluster\n",
    "    sigma=[np.eye(ndim)]*num_cluster\n",
    "    #initially suppose each cluster with same prior probability\n",
    "    p=[1/num_cluster]*num_cluster\n",
    "    return [mu,sigma,p]\n",
    "\n",
    "\n",
    "#compute the posterior probability matrix for Xi from j's cluster\n",
    "def proba(X,p,mu,sigma,k):\n",
    "    nsample=X.shape[0]\n",
    "    prob=np.zeros((nsample,k),dtype=\"float\")\n",
    "    for i in range(nsample):\n",
    "        temp=np.zeros((1,k))\n",
    "        for j in range(k):\n",
    "            temp[0,j]=normal(X[i,],mu[j],sigma[j])\n",
    "        prob[i,]=np.multiply(temp,p)\n",
    "        prob[i,]=prob[i,]/np.sum(prob[i,])\n",
    "    return prob\n",
    "\n",
    "\n",
    "#compute the log-likelihood\n",
    "def loglikelihood(X,mu,sigma,p,k):\n",
    "    nsample=X.shape[0]\n",
    "    E=0\n",
    "    for i in range(nsample):\n",
    "        temp=np.zeros((1,k))\n",
    "        for j in range(k):\n",
    "            temp[0,j]=normal(X[i,],mu[j],sigma[j])\n",
    "        E+=np.log(np.sum(np.multiply(temp,p)))\n",
    "    return E\n",
    "\n",
    "#generate new mean and covariance matrix\n",
    "def new_estimate(X,prob,k):\n",
    "    nsample=X.shape[0]\n",
    "    d=X.shape[1]\n",
    "    #compute prior probability\n",
    "    p=np.mean(prob,0)\n",
    "    mu=np.zeros((k,d))\n",
    "    sigma=np.zeros((k,d,d))\n",
    "    #compute mu\n",
    "    for i in range(k):\n",
    "        mu[i]=prob.T[i,]*X/np.sum(prob.T[i,])\n",
    "    #compute covariance matrix\n",
    "    for i in range(k):\n",
    "        newx=np.matrix(X-mu[i])\n",
    "        newtemp=np.matrix(np.zeros((d,d)))\n",
    "        for j in range(nsample):\n",
    "            newtemp=newtemp+prob[j,i]*newx[j,].T*newx[j,]\n",
    "        newtemp=newtemp/np.sum(prob.T[i,])\n",
    "        sigma[i]=newtemp\n",
    "\n",
    "    return [mu,sigma,p]\n",
    "\n",
    "#EM algorithm\n",
    "def EM(X,k,epsilon):\n",
    "    max_iter=200\n",
    "    loglikelihoods=[]\n",
    "    iteration=0\n",
    "    difference=3*epsilon\n",
    "    nsample=X.shape[0]\n",
    "    \n",
    "    #initial mu, sigma and prior probability\n",
    "    [mu,sigma,p]=EM_initial(X,k)\n",
    "    \n",
    "    while(difference>epsilon and iteration<max_iter):\n",
    "        iteration+=1\n",
    "        #E-step\n",
    "        prob=proba(X,p,mu,sigma,k)\n",
    "        #M-step\n",
    "        [mu,sigma,p]=new_estimate(X,prob,k)\n",
    "        #compute the loglikelihood\n",
    "        loglikelihoods.append(loglikelihood(X,mu,sigma,p,k))\n",
    "        #compute the convergence condition\n",
    "        if iteration>=2:\n",
    "            difference=loglikelihoods[-1]-loglikelihoods[-2]\n",
    "        \n",
    "    #compute the corresponding cluster for each sample data\n",
    "    label=np.argmax(prob,1)\n",
    "    \n",
    "    return [label,iteration,mu,sigma,prob,loglikelihoods]\n"
   ]
  },
  {
   "cell_type": "code",
   "execution_count": 15,
   "metadata": {},
   "outputs": [
    {
     "data": {
      "image/png": "[encoded data removed]",
      "text/plain": [
       "<matplotlib.figure.Figure at 0x11e1d51d0>"
      ]
     },
     "metadata": {},
     "output_type": "display_data"
    }
   ],
   "source": [
    "k=3\n",
    "epsilon=0.05\n",
    "[label,iteration,mu,sigma,probability,loglik]=EM(X,k,epsilon)\n",
    "l1=plt.plot(X[label==0,0],X[label==0,1],'r.')\n",
    "l2=plt.plot(X[label==1,0],X[label==1,1],'g.')\n",
    "l3=plt.plot(X[label==2,0],X[label==2,1],'b.')"
   ]
  },
  {
   "cell_type": "markdown",
   "metadata": {},
   "source": [
    "As we can see, the cluster result is little different from that in k-means. It may cluster better compared to k-means from above result, three clusters are well separated. "
   ]
  },
  {
   "cell_type": "code",
   "execution_count": 16,
   "metadata": {},
   "outputs": [
    {
     "name": "stdout",
     "output_type": "stream",
     "text": [
      "the average number of iteration for k-means is 8.450\n",
      "the average number of iteration for EM is 19.050\n"
     ]
    }
   ],
   "source": [
    "#compute the average number of iteration for k-means\n",
    "k=3\n",
    "iter_num=0\n",
    "for l in range(20):\n",
    "    [label,iteration,distor]=k_means(X,k)\n",
    "    iter_num+=iteration\n",
    "iter_num=iter_num/20\n",
    "print('the average number of iteration for k-means is {0:.3f}'.format(iter_num))\n",
    "\n",
    "#compute the average number of iteration of EM algorithm\n",
    "iter_num=0\n",
    "epsilon=0.05\n",
    "for l in range(20):\n",
    "    [label,iteration,mu,sigma,probability,loglik]=EM(X,k,epsilon)\n",
    "    iter_num+=iteration\n",
    "iter_num=iter_num/20\n",
    "print('the average number of iteration for EM is {0:.3f}'.format(iter_num))"
   ]
  },
  {
   "cell_type": "markdown",
   "metadata": {},
   "source": [
    "The above result shows that the average number of iteration for EM is larger than than of k-means. In other words, it converges slower than k-means method on average."
   ]
  },
  {
   "cell_type": "markdown",
   "metadata": {},
   "source": [
    "##4"
   ]
  },
  {
   "cell_type": "code",
   "execution_count": 17,
   "metadata": {},
   "outputs": [],
   "source": [
    "#randomly generate 10 centroids uniform from square [-50,50]x[-50,50]\n",
    "x=np.random.uniform(low=-50,high=50,size=10)\n",
    "y=np.random.uniform(low=-50,high=50,size=10)\n",
    "mean=np.zeros((10,2))\n",
    "mean[:,0]=x\n",
    "mean[:,1]=y\n",
    "\n",
    "#assign each centroid with same matrix \n",
    "sigma=np.array([[1,0.2],[0.2,1]])\n",
    "\n",
    "#uniformly generate number of data sample for each centroid in [150,250]\n",
    "num=np.random.choice(np.linspace(150,250,num=101,dtype=\"int\"),10)\n",
    "\n",
    "\n",
    "x=np.random.multivariate_normal(mean[1,:],sigma,num[1])\n",
    "for l in range(1,10):\n",
    "    #generate data points for each centroid under normal assumption\n",
    "    temp=np.random.multivariate_normal(mean[l,:],sigma,num[l])\n",
    "    \n",
    "    #concatenate data points\n",
    "    x=np.concatenate((x,temp),axis=0)\n",
    "x=np.matrix(x)"
   ]
  },
  {
   "cell_type": "code",
   "execution_count": 18,
   "metadata": {},
   "outputs": [
    {
     "name": "stdout",
     "output_type": "stream",
     "text": [
      "the average distortion for k-means++ is 4088.516\n"
     ]
    }
   ],
   "source": [
    "k=10\n",
    "#compute average distortion of k-means++\n",
    "Distortion=0\n",
    "for l in range(20):\n",
    "    [label,num,distor]=k_meansplus(x,k)\n",
    "    Distortion+=distor[-1]\n",
    "Distortion=Distortion/20\n",
    "print('the average distortion for k-means++ is {0:.3f}'.format(Distortion))"
   ]
  },
  {
   "cell_type": "code",
   "execution_count": 19,
   "metadata": {},
   "outputs": [
    {
     "name": "stdout",
     "output_type": "stream",
     "text": [
      "the average distortion for k-means is 58535.285\n"
     ]
    }
   ],
   "source": [
    "#compute average distortion of k-means\n",
    "Distortion=0\n",
    "for l in range(20):\n",
    "    [label,num,distor]=k_means(x,k)\n",
    "    Distortion+=distor[-1]\n",
    "Distortion=Distortion/20\n",
    "print('the average distortion for k-means is {0:.3f}'.format(Distortion))"
   ]
  },
  {
   "cell_type": "markdown",
   "metadata": {},
   "source": [
    "As we can see that k–means++ improves the performance of k–means by at least a factor of 10 in terms of the distortion function value of the final clustering."
   ]
  }
 ],
 "metadata": {
  "kernelspec": {
   "display_name": "Python 3",
   "language": "python",
   "name": "python3"
  },
  "language_info": {
   "codemirror_mode": {
    "name": "ipython",
    "version": 3
   },
   "file_extension": ".py",
   "mimetype": "text/x-python",
   "name": "python",
   "nbconvert_exporter": "python",
   "pygments_lexer": "ipython3",
   "version": "3.6.4"
  }
 },
 "nbformat": 4,
 "nbformat_minor": 2
}
